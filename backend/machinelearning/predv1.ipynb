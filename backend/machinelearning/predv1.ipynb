{
 "cells": [
  {
   "cell_type": "code",
   "execution_count": 5,
   "id": "e58441aa-d632-4def-8442-b71c805a7900",
   "metadata": {},
   "outputs": [
    {
     "name": "stdin",
     "output_type": "stream",
     "text": [
      "Enter the semester number you want to predict (2-8):  2\n"
     ]
    },
    {
     "name": "stdout",
     "output_type": "stream",
     "text": [
      "Model Performance for SEM-2:\n",
      "MAE: 0.0530\n",
      "MSE: 0.0054\n",
      "R² Score: 0.9944\n",
      "\n",
      "Enter your SGPA for previous semesters one by one:\n"
     ]
    },
    {
     "name": "stdin",
     "output_type": "stream",
     "text": [
      "Enter SGPA for SEM-1:  8.5\n"
     ]
    },
    {
     "name": "stdout",
     "output_type": "stream",
     "text": [
      "Predicted SGPA for SEM-2: 8.47\n"
     ]
    }
   ],
   "source": [
    "import pandas as pd\n",
    "import numpy as np\n",
    "from sklearn.model_selection import train_test_split\n",
    "from sklearn.preprocessing import StandardScaler\n",
    "from sklearn.neural_network import MLPRegressor\n",
    "from sklearn.metrics import mean_absolute_error, mean_squared_error\n",
    "\n",
    "# Load data\n",
    "data = pd.read_csv('Data-Copy1.csv')\n",
    "if \"Unnamed: 0\" in data.columns:\n",
    "    data.drop(columns=[\"Unnamed: 0\"], inplace=True)\n",
    "\n",
    "# Define semester labels\n",
    "semester_labels = [f\"SEM-{i}\" for i in range(2, 9)]\n",
    "\n",
    "# Feature Engineering\n",
    "data['Avg_SGPA'] = data.iloc[:, :-2].mean(axis=1)\n",
    "data['SGPA_Improvement'] = data.iloc[:, 1:-2].subtract(data.iloc[:, :-3].values).mean(axis=1)\n",
    "data['SGPA_Difference'] = data.iloc[:, -3] - data.iloc[:, 0]\n",
    "\n",
    "# Split data dynamically\n",
    "x_train_test = {}\n",
    "y_train_test = {}\n",
    "scalers = {}\n",
    "mlp_models = {}\n",
    "\n",
    "for i in range(2, 9):\n",
    "    predictors = semester_labels[: i - 1] + [\"Avg_SGPA\", \"SGPA_Improvement\", \"SGPA_Difference\"]\n",
    "    target = f\"SEM-{i}\"\n",
    "    \n",
    "    x = data[predictors]\n",
    "    y = data[target]\n",
    "\n",
    "    x_train, x_test, y_train, y_test = train_test_split(x, y, test_size=0.3, random_state=2)\n",
    "    x_train_test[target] = (x_train, x_test)\n",
    "    y_train_test[target] = (y_train, y_test)\n",
    "\n",
    "    # Standardization\n",
    "    scaler = StandardScaler()\n",
    "    x_train_scaled = scaler.fit_transform(x_train)\n",
    "    x_test_scaled = scaler.transform(x_test)\n",
    "    scalers[target] = scaler\n",
    "\n",
    "    # Train model\n",
    "    model = MLPRegressor(hidden_layer_sizes=(64, 32), activation='relu', solver='adam', max_iter=1000, random_state=2)\n",
    "    model.fit(x_train_scaled, y_train)\n",
    "    mlp_models[target] = model\n",
    "\n",
    "# Evaluation function\n",
    "def evaluate_model(model, x_test_scaled, y_test, sem_label):\n",
    "    y_pred = model.predict(x_test_scaled)\n",
    "    print(f\"Model Performance for {sem_label}:\")\n",
    "    print(f\"MAE: {mean_absolute_error(y_test, y_pred):.4f}\")\n",
    "    print(f\"MSE: {mean_squared_error(y_test, y_pred):.4f}\")\n",
    "    print(f\"R² Score: {model.score(x_test_scaled, y_test):.4f}\\n\")\n",
    "\n",
    "# Predict SGPA for a selected semester\n",
    "ch = int(input(\"Enter the semester number you want to predict (2-8): \"))\n",
    "\n",
    "if ch in range(2, 9):\n",
    "    target = f\"SEM-{ch}\"\n",
    "    predictors = semester_labels[: ch - 1] + [\"Avg_SGPA\", \"SGPA_Improvement\", \"SGPA_Difference\"]\n",
    "    evaluate_model(mlp_models[target], scalers[target].transform(x_train_test[target][1]), y_train_test[target][1], target)\n",
    "    print(\"Enter your SGPA for previous semesters one by one:\")\n",
    "    prev_sgpa = [float(input(f\"Enter SGPA for SEM-{i}: \")) for i in range(1, ch)]\n",
    "    \n",
    "    # Compute derived features\n",
    "    avg_sgpa = np.mean(prev_sgpa)\n",
    "    sgpa_improvement = np.mean(np.diff(prev_sgpa)) if len(prev_sgpa) > 1 else 0\n",
    "    sgpa_difference = prev_sgpa[-1] - prev_sgpa[0] if len(prev_sgpa) > 1 else 0\n",
    "    \n",
    "    new_input_extended = np.array(prev_sgpa + [avg_sgpa, sgpa_improvement, sgpa_difference]).reshape(1, -1)\n",
    "\n",
    "    # Standardize and Predict\n",
    "    new_input_scaled = scalers[target].transform(new_input_extended)\n",
    "    prediction = mlp_models[target].predict(new_input_scaled)\n",
    "\n",
    "    print(f\"Predicted SGPA for {target}: {round(prediction[0], 2)}\")\n",
    "else:\n",
    "    print(\"Invalid choice. Please enter a number between 2 and 8.\")\n"
   ]
  },
  {
   "cell_type": "code",
   "execution_count": null,
   "id": "b4873edd-981e-42c7-ab21-f5a6331452ce",
   "metadata": {},
   "outputs": [],
   "source": []
  }
 ],
 "metadata": {
  "kernelspec": {
   "display_name": "Python 3 (ipykernel)",
   "language": "python",
   "name": "python3"
  },
  "language_info": {
   "codemirror_mode": {
    "name": "ipython",
    "version": 3
   },
   "file_extension": ".py",
   "mimetype": "text/x-python",
   "name": "python",
   "nbconvert_exporter": "python",
   "pygments_lexer": "ipython3",
   "version": "3.12.5"
  }
 },
 "nbformat": 4,
 "nbformat_minor": 5
}
